{
 "cells": [
  {
   "cell_type": "markdown",
   "metadata": {
    "id": "JgNeJJz38Epi"
   },
   "source": [
    "# **CLASSIFICAÇÃO DE PRODUTOS DE UM E-COMMERCE POR CATEGORIA**\n",
    "\n",
    "\n",
    "**OBJETIVO:**  \n",
    "\n",
    "\n",
    "1. Utilizar etapas do método CRISP\n",
    "2. Realizar pré-processamento de todas as features do Dataset fornecido\n",
    "3. Desenvolver uma solução de machine learning que traga valor o cliente;\n",
    "4. Criar um algoritmo capaz de classificar os produtos em diferentes categorias, baseado em dados descritivos de produtos digitais (no caso 5 categorias).\n",
    "\n",
    "---\n",
    "\n",
    "\n",
    "**DATASET USADO:** products_dataset.csv"
   ]
  },
  {
   "cell_type": "markdown",
   "metadata": {
    "id": "e4BEdtF4gMnf"
   },
   "source": [
    "# INSTALANDO REQUIREMENTS\n",
    "---"
   ]
  },
  {
   "cell_type": "code",
   "execution_count": 1,
   "metadata": {
    "id": "Eisk9QejgSCi"
   },
   "outputs": [],
   "source": [
    "#!pip install -r \"C:\\Projeto_Final_MineracaoDados\\requirements.txt\""
   ]
  },
  {
   "cell_type": "markdown",
   "metadata": {
    "id": "tD-9fEXCAUnC"
   },
   "source": [
    "# BIBLIOTECAS A SEREM INSTALADAS\n",
    "---"
   ]
  },
  {
   "cell_type": "code",
   "execution_count": 2,
   "metadata": {
    "colab": {
     "base_uri": "https://localhost:8080/"
    },
    "id": "TIf_Q4uiBA65",
    "outputId": "88aeeb3f-9343-4b61-82ae-d5173f495d4f"
   },
   "outputs": [
    {
     "name": "stdout",
     "output_type": "stream",
     "text": [
      "Requirement already satisfied: unidecode in c:\\users\\rodrigo mendes\\anaconda3\\lib\\site-packages (1.2.0)\n"
     ]
    }
   ],
   "source": [
    "!pip install unidecode"
   ]
  },
  {
   "cell_type": "markdown",
   "metadata": {
    "id": "w1fSpMHHtUpX"
   },
   "source": [
    "# AQUISIÇÃO DOS DADOS\n",
    "---"
   ]
  },
  {
   "cell_type": "code",
   "execution_count": 3,
   "metadata": {
    "id": "ltQzibk9xE-n"
   },
   "outputs": [],
   "source": [
    "import pandas as pd"
   ]
  },
  {
   "cell_type": "code",
   "execution_count": 4,
   "metadata": {
    "id": "MC6c0fzAsaEI",
    "scrolled": true
   },
   "outputs": [],
   "source": [
    "df = pd.read_csv(r\"\\Users\\Rodrigo Mendes\\Desktop\\products_dataset.csv\")"
   ]
  },
  {
   "cell_type": "markdown",
   "metadata": {
    "id": "3unznWN8tZ1n"
   },
   "source": [
    "# EXPLORAÇÃO DOS DADOS\n",
    "---"
   ]
  },
  {
   "cell_type": "code",
   "execution_count": 5,
   "metadata": {
    "colab": {
     "base_uri": "https://localhost:8080/",
     "height": 422
    },
    "id": "s6pf9XMdtPoO",
    "outputId": "13ef1556-0f5c-44e2-ece7-75044085c221"
   },
   "outputs": [
    {
     "data": {
      "text/html": [
       "<div>\n",
       "<style scoped>\n",
       "    .dataframe tbody tr th:only-of-type {\n",
       "        vertical-align: middle;\n",
       "    }\n",
       "\n",
       "    .dataframe tbody tr th {\n",
       "        vertical-align: top;\n",
       "    }\n",
       "\n",
       "    .dataframe thead th {\n",
       "        text-align: right;\n",
       "    }\n",
       "</style>\n",
       "<table border=\"1\" class=\"dataframe\">\n",
       "  <thead>\n",
       "    <tr style=\"text-align: right;\">\n",
       "      <th></th>\n",
       "      <th>product_id</th>\n",
       "      <th>seller_id</th>\n",
       "      <th>query</th>\n",
       "      <th>search_page</th>\n",
       "      <th>position</th>\n",
       "      <th>title</th>\n",
       "      <th>concatenated_tags</th>\n",
       "      <th>creation_date</th>\n",
       "      <th>price</th>\n",
       "      <th>weight</th>\n",
       "      <th>express_delivery</th>\n",
       "      <th>minimum_quantity</th>\n",
       "      <th>view_counts</th>\n",
       "      <th>order_counts</th>\n",
       "      <th>category</th>\n",
       "    </tr>\n",
       "  </thead>\n",
       "  <tbody>\n",
       "    <tr>\n",
       "      <th>0</th>\n",
       "      <td>11394449</td>\n",
       "      <td>8324141</td>\n",
       "      <td>espirito santo</td>\n",
       "      <td>2</td>\n",
       "      <td>6</td>\n",
       "      <td>Mandala Espírito Santo</td>\n",
       "      <td>mandala mdf</td>\n",
       "      <td>2015-11-14 19:42:12</td>\n",
       "      <td>171.890000</td>\n",
       "      <td>1200.0</td>\n",
       "      <td>1</td>\n",
       "      <td>4</td>\n",
       "      <td>244</td>\n",
       "      <td>NaN</td>\n",
       "      <td>Decoração</td>\n",
       "    </tr>\n",
       "    <tr>\n",
       "      <th>1</th>\n",
       "      <td>15534262</td>\n",
       "      <td>6939286</td>\n",
       "      <td>cartao de visita</td>\n",
       "      <td>2</td>\n",
       "      <td>0</td>\n",
       "      <td>Cartão de Visita</td>\n",
       "      <td>cartao visita panfletos tag adesivos copos lon...</td>\n",
       "      <td>2018-04-04 20:55:07</td>\n",
       "      <td>77.670000</td>\n",
       "      <td>8.0</td>\n",
       "      <td>1</td>\n",
       "      <td>5</td>\n",
       "      <td>124</td>\n",
       "      <td>NaN</td>\n",
       "      <td>Papel e Cia</td>\n",
       "    </tr>\n",
       "    <tr>\n",
       "      <th>2</th>\n",
       "      <td>16153119</td>\n",
       "      <td>9835835</td>\n",
       "      <td>expositor de esmaltes</td>\n",
       "      <td>1</td>\n",
       "      <td>38</td>\n",
       "      <td>Organizador expositor p/ 70 esmaltes</td>\n",
       "      <td>expositor</td>\n",
       "      <td>2018-10-13 20:57:07</td>\n",
       "      <td>73.920006</td>\n",
       "      <td>2709.0</td>\n",
       "      <td>1</td>\n",
       "      <td>1</td>\n",
       "      <td>59</td>\n",
       "      <td>NaN</td>\n",
       "      <td>Outros</td>\n",
       "    </tr>\n",
       "    <tr>\n",
       "      <th>3</th>\n",
       "      <td>15877252</td>\n",
       "      <td>8071206</td>\n",
       "      <td>medidas lencol para berco americano</td>\n",
       "      <td>1</td>\n",
       "      <td>6</td>\n",
       "      <td>Jogo de Lençol Berço Estampado</td>\n",
       "      <td>t jogo lencol menino lencol berco</td>\n",
       "      <td>2017-02-27 13:26:03</td>\n",
       "      <td>118.770004</td>\n",
       "      <td>0.0</td>\n",
       "      <td>1</td>\n",
       "      <td>1</td>\n",
       "      <td>180</td>\n",
       "      <td>1.0</td>\n",
       "      <td>Bebê</td>\n",
       "    </tr>\n",
       "    <tr>\n",
       "      <th>4</th>\n",
       "      <td>15917108</td>\n",
       "      <td>7200773</td>\n",
       "      <td>adesivo box banheiro</td>\n",
       "      <td>3</td>\n",
       "      <td>38</td>\n",
       "      <td>ADESIVO BOX DE BANHEIRO</td>\n",
       "      <td>adesivo box banheiro</td>\n",
       "      <td>2017-05-09 13:18:38</td>\n",
       "      <td>191.810000</td>\n",
       "      <td>507.0</td>\n",
       "      <td>1</td>\n",
       "      <td>6</td>\n",
       "      <td>34</td>\n",
       "      <td>NaN</td>\n",
       "      <td>Decoração</td>\n",
       "    </tr>\n",
       "  </tbody>\n",
       "</table>\n",
       "</div>"
      ],
      "text/plain": [
       "   product_id  seller_id                                query  search_page  \\\n",
       "0    11394449    8324141                       espirito santo            2   \n",
       "1    15534262    6939286                     cartao de visita            2   \n",
       "2    16153119    9835835                expositor de esmaltes            1   \n",
       "3    15877252    8071206  medidas lencol para berco americano            1   \n",
       "4    15917108    7200773                 adesivo box banheiro            3   \n",
       "\n",
       "   position                                 title  \\\n",
       "0         6                Mandala Espírito Santo   \n",
       "1         0                      Cartão de Visita   \n",
       "2        38  Organizador expositor p/ 70 esmaltes   \n",
       "3         6        Jogo de Lençol Berço Estampado   \n",
       "4        38               ADESIVO BOX DE BANHEIRO   \n",
       "\n",
       "                                   concatenated_tags        creation_date  \\\n",
       "0                                        mandala mdf  2015-11-14 19:42:12   \n",
       "1  cartao visita panfletos tag adesivos copos lon...  2018-04-04 20:55:07   \n",
       "2                                          expositor  2018-10-13 20:57:07   \n",
       "3                  t jogo lencol menino lencol berco  2017-02-27 13:26:03   \n",
       "4                               adesivo box banheiro  2017-05-09 13:18:38   \n",
       "\n",
       "        price  weight  express_delivery  minimum_quantity  view_counts  \\\n",
       "0  171.890000  1200.0                 1                 4          244   \n",
       "1   77.670000     8.0                 1                 5          124   \n",
       "2   73.920006  2709.0                 1                 1           59   \n",
       "3  118.770004     0.0                 1                 1          180   \n",
       "4  191.810000   507.0                 1                 6           34   \n",
       "\n",
       "   order_counts     category  \n",
       "0           NaN    Decoração  \n",
       "1           NaN  Papel e Cia  \n",
       "2           NaN       Outros  \n",
       "3           1.0         Bebê  \n",
       "4           NaN    Decoração  "
      ]
     },
     "execution_count": 5,
     "metadata": {},
     "output_type": "execute_result"
    }
   ],
   "source": [
    "df.head()"
   ]
  },
  {
   "cell_type": "code",
   "execution_count": 6,
   "metadata": {
    "colab": {
     "base_uri": "https://localhost:8080/"
    },
    "id": "A3DNJnaCtqB0",
    "outputId": "f2ac7bf7-534b-4e3b-c979-6eb40fa6b99b"
   },
   "outputs": [
    {
     "name": "stdout",
     "output_type": "stream",
     "text": [
      "<class 'pandas.core.frame.DataFrame'>\n",
      "RangeIndex: 38507 entries, 0 to 38506\n",
      "Data columns (total 15 columns):\n",
      " #   Column             Non-Null Count  Dtype  \n",
      "---  ------             --------------  -----  \n",
      " 0   product_id         38507 non-null  int64  \n",
      " 1   seller_id          38507 non-null  int64  \n",
      " 2   query              38507 non-null  object \n",
      " 3   search_page        38507 non-null  int64  \n",
      " 4   position           38507 non-null  int64  \n",
      " 5   title              38507 non-null  object \n",
      " 6   concatenated_tags  38505 non-null  object \n",
      " 7   creation_date      38507 non-null  object \n",
      " 8   price              38507 non-null  float64\n",
      " 9   weight             38449 non-null  float64\n",
      " 10  express_delivery   38507 non-null  int64  \n",
      " 11  minimum_quantity   38507 non-null  int64  \n",
      " 12  view_counts        38507 non-null  int64  \n",
      " 13  order_counts       18117 non-null  float64\n",
      " 14  category           38507 non-null  object \n",
      "dtypes: float64(3), int64(7), object(5)\n",
      "memory usage: 4.4+ MB\n"
     ]
    }
   ],
   "source": [
    "df.info()"
   ]
  },
  {
   "cell_type": "code",
   "execution_count": 7,
   "metadata": {
    "colab": {
     "base_uri": "https://localhost:8080/"
    },
    "id": "FRrS40YzuPjU",
    "outputId": "287c0337-3b59-463c-b56f-df951d86d573"
   },
   "outputs": [
    {
     "data": {
      "text/plain": [
       "array(['Decoração', 'Papel e Cia', 'Outros', 'Bebê', 'Lembrancinhas',\n",
       "       'Bijuterias e Jóias'], dtype=object)"
      ]
     },
     "execution_count": 7,
     "metadata": {},
     "output_type": "execute_result"
    }
   ],
   "source": [
    "df.category.unique()"
   ]
  },
  {
   "cell_type": "code",
   "execution_count": 8,
   "metadata": {
    "colab": {
     "base_uri": "https://localhost:8080/"
    },
    "id": "fk0kegKIxyXf",
    "outputId": "b778f7bd-25d8-4856-e631-ccc89510b0b5"
   },
   "outputs": [
    {
     "data": {
      "text/plain": [
       "(38507, 15)"
      ]
     },
     "execution_count": 8,
     "metadata": {},
     "output_type": "execute_result"
    }
   ],
   "source": [
    "df.shape"
   ]
  },
  {
   "cell_type": "code",
   "execution_count": 9,
   "metadata": {
    "id": "2Iclk-r9Ae4j"
   },
   "outputs": [
    {
     "ename": "SyntaxError",
     "evalue": "invalid syntax (<ipython-input-9-fad4fb920e28>, line 2)",
     "output_type": "error",
     "traceback": [
      "\u001b[1;36m  File \u001b[1;32m\"<ipython-input-9-fad4fb920e28>\"\u001b[1;36m, line \u001b[1;32m2\u001b[0m\n\u001b[1;33m    ---\u001b[0m\n\u001b[1;37m       ^\u001b[0m\n\u001b[1;31mSyntaxError\u001b[0m\u001b[1;31m:\u001b[0m invalid syntax\n"
     ]
    }
   ],
   "source": [
    "#PRÉ-PROCESSAMENTO DOS DADOS\n",
    "---"
   ]
  },
  {
   "cell_type": "markdown",
   "metadata": {
    "id": "qMeXR10E1Cj4"
   },
   "source": [
    "## Transformar letras em minúsculas"
   ]
  },
  {
   "cell_type": "code",
   "execution_count": 10,
   "metadata": {
    "id": "AyOXp4c0McQA"
   },
   "outputs": [],
   "source": [
    "df['query'] = df['query'].str.lower()\n",
    "df['title'] = df['title'].str.lower()\n",
    "df['concatenated_tags'] = df['concatenated_tags'].str.lower()"
   ]
  },
  {
   "cell_type": "markdown",
   "metadata": {
    "id": "dGIrDoxJ0-FD"
   },
   "source": [
    "## Remoção de Acentos"
   ]
  },
  {
   "cell_type": "code",
   "execution_count": 11,
   "metadata": {
    "id": "hPM2mTwcyf8J"
   },
   "outputs": [],
   "source": [
    "import unidecode\n",
    "\n",
    "df['title'] = df['title'].apply(lambda x: unidecode.unidecode(x))\n",
    "df['query'] = df['query'].apply(lambda x: unidecode.unidecode(x))\n",
    "df['concatenated_tags'] = df['concatenated_tags'].apply(lambda x: unidecode.unidecode(str(x)))"
   ]
  },
  {
   "cell_type": "markdown",
   "metadata": {
    "id": "EQSWJ677_EUb"
   },
   "source": [
    "## Remoção de Símbolos"
   ]
  },
  {
   "cell_type": "code",
   "execution_count": 12,
   "metadata": {
    "id": "q55CUiRs6Gvx"
   },
   "outputs": [],
   "source": [
    "import re\n",
    "#'s\t(\t)\t,\t?\t[\t]\n",
    "df['title'] = df['title'].apply(lambda x: re.sub('\\|\\?|\\.|\\!|\\/|\\;|\\:|\\+|\\-|\\'|\\(|\\)|\\,|\\[|\\]|\\?|\\_', '', x))\n",
    "df['query'] = df['query'].apply(lambda x: re.sub('\\|\\?|\\.|\\!|\\/|\\;|\\:|\\+|\\-|\\'|\\(|\\)|\\,|\\[|\\]|\\?|\\_', '', x))\n",
    "df['concatenated_tags'] = df['concatenated_tags'].apply(lambda x: re.sub('\\|\\?|\\.|\\!|\\/|\\;|\\:|\\+|\\-|\\'|\\(|\\)|\\,|\\[|\\]|\\?|\\_', '', str(x)))"
   ]
  },
  {
   "cell_type": "markdown",
   "metadata": {
    "id": "buiaxqmg_1uA"
   },
   "source": [
    "## Remoção de Números"
   ]
  },
  {
   "cell_type": "code",
   "execution_count": 13,
   "metadata": {
    "id": "v0YhU0jk_bjJ"
   },
   "outputs": [],
   "source": [
    "df['title'] = df['title'].apply(lambda x: re.sub(r'[0-9]+', '', x))\n",
    "df['query'] = df['query'].apply(lambda x: re.sub(r'[0-9]+', '', x))\n",
    "df['concatenated_tags'] = df['concatenated_tags'].apply(lambda x: re.sub(r'[0-9]+', '', str(x)))"
   ]
  },
  {
   "cell_type": "markdown",
   "metadata": {
    "id": "je_2dyT6ALBi"
   },
   "source": [
    "## Remoção palavras de ligação (Stopwords)"
   ]
  },
  {
   "cell_type": "code",
   "execution_count": 14,
   "metadata": {
    "colab": {
     "base_uri": "https://localhost:8080/"
    },
    "id": "M7kAPlKVj7qW",
    "outputId": "0bf48467-9de1-4574-99d9-ba3cee451c0c"
   },
   "outputs": [
    {
     "name": "stderr",
     "output_type": "stream",
     "text": [
      "[nltk_data] Downloading package punkt to C:\\Users\\Rodrigo\n",
      "[nltk_data]     Mendes\\AppData\\Roaming\\nltk_data...\n",
      "[nltk_data]   Package punkt is already up-to-date!\n",
      "[nltk_data] Downloading package stopwords to C:\\Users\\Rodrigo\n",
      "[nltk_data]     Mendes\\AppData\\Roaming\\nltk_data...\n",
      "[nltk_data]   Package stopwords is already up-to-date!\n"
     ]
    },
    {
     "data": {
      "text/plain": [
       "True"
      ]
     },
     "execution_count": 14,
     "metadata": {},
     "output_type": "execute_result"
    }
   ],
   "source": [
    "import nltk\n",
    "from nltk.corpus import stopwords\n",
    "from nltk.tokenize import word_tokenize \n",
    "nltk.download('punkt')\n",
    "nltk.download('stopwords')"
   ]
  },
  {
   "cell_type": "code",
   "execution_count": 15,
   "metadata": {
    "id": "u6YglWZudBGF"
   },
   "outputs": [],
   "source": [
    "def RemovePalavrasLigacao (texto):\n",
    "\n",
    "  \"\"\"Esta função realiza a remoção das palavras de ligação (Stopwords) de Texto (String)\"\"\"\n",
    "\n",
    "  palavras_ligacao = set(stopwords.words('portuguese'))   \n",
    "  texto_tokenizado = word_tokenize(texto) \n",
    "    \n",
    "  texto_filtrado = [w for w in texto_tokenizado if not w in palavras_ligacao]   \n",
    "  texto_filtrado = [] \n",
    "    \n",
    "  for w in texto_tokenizado: \n",
    "      if w not in palavras_ligacao: \n",
    "          texto_filtrado.append(w) \n",
    "          \n",
    "  return texto_filtrado"
   ]
  },
  {
   "cell_type": "code",
   "execution_count": 16,
   "metadata": {
    "id": "FzBvysgXf69j"
   },
   "outputs": [],
   "source": [
    "df['title'] = df['title'].apply(lambda x: RemovePalavrasLigacao(x))\n",
    "df['query'] = df['query'].apply(lambda x: RemovePalavrasLigacao(x))\n",
    "df['concatenated_tags'] = df['concatenated_tags'].apply(lambda x: RemovePalavrasLigacao(str(x)))"
   ]
  },
  {
   "cell_type": "markdown",
   "metadata": {
    "id": "gUHeUpCy3HJ2"
   },
   "source": [
    "Salvando coluna de 'concatenated_tags' para uso posterior"
   ]
  },
  {
   "cell_type": "code",
   "execution_count": 17,
   "metadata": {
    "id": "TxIQOTj43K83"
   },
   "outputs": [],
   "source": [
    "col_concat = df['concatenated_tags'].copy()"
   ]
  },
  {
   "cell_type": "markdown",
   "metadata": {
    "id": "h5ZFdg9WmfDF"
   },
   "source": [
    "##Juntando Palavras Processadas"
   ]
  },
  {
   "cell_type": "code",
   "execution_count": 18,
   "metadata": {
    "id": "iYZayaTPmkSP"
   },
   "outputs": [],
   "source": [
    "df['title'] = df['title'].apply(lambda x: \" \".join(x))\n",
    "df['query'] = df['query'].apply(lambda x: \" \".join(x))\n",
    "df['concatenated_tags'] = df['concatenated_tags'].apply(lambda x: \" \".join(x))"
   ]
  },
  {
   "cell_type": "markdown",
   "metadata": {
    "id": "o5uRBu1Tljco"
   },
   "source": [
    "## Testando similaridades entre as strings das Colunas"
   ]
  },
  {
   "cell_type": "code",
   "execution_count": 19,
   "metadata": {
    "id": "NIZD3CJawgTj"
   },
   "outputs": [],
   "source": [
    "from difflib import SequenceMatcher"
   ]
  },
  {
   "cell_type": "code",
   "execution_count": 20,
   "metadata": {
    "id": "8pOCtHsHqiqE"
   },
   "outputs": [],
   "source": [
    "def sml(x,y):\n",
    "    return SequenceMatcher(None, x, y).ratio()"
   ]
  },
  {
   "cell_type": "markdown",
   "metadata": {
    "id": "XbFsmdAIteIj"
   },
   "source": [
    "### Similaridade entre 'title' e 'query'"
   ]
  },
  {
   "cell_type": "code",
   "execution_count": 21,
   "metadata": {
    "id": "q8UPE49aucyD"
   },
   "outputs": [],
   "source": [
    "import numpy as np"
   ]
  },
  {
   "cell_type": "code",
   "execution_count": 22,
   "metadata": {
    "id": "tPfa-4DOs-vX"
   },
   "outputs": [],
   "source": [
    "lista_comparacao = np.array([])\n",
    "\n",
    "for i in range(0,len(df.title)):\n",
    "  a = sml(df['title'][i], df['query'][i])\n",
    "  lista_comparacao = np.append(lista_comparacao,a)\n",
    "df['sim_title_query'] = lista_comparacao"
   ]
  },
  {
   "cell_type": "markdown",
   "metadata": {
    "id": "LtxXp2VNtsOW"
   },
   "source": [
    "### Similaridade entre 'title' e 'concatenated_tags'"
   ]
  },
  {
   "cell_type": "code",
   "execution_count": 23,
   "metadata": {
    "id": "mW4Yrp_KtsOX"
   },
   "outputs": [],
   "source": [
    "lista_comparacao = np.array([])\n",
    "\n",
    "for i in range(0,len(df.title)):\n",
    "  a = sml(df['title'][i], df['concatenated_tags'][i])\n",
    "  lista_comparacao = np.append(lista_comparacao,a)\n",
    "df['sim_title_concat'] = lista_comparacao"
   ]
  },
  {
   "cell_type": "markdown",
   "metadata": {
    "id": "S_Nj3u7Wt5NN"
   },
   "source": [
    "### Similaridade entre 'query' e 'concatenated_tags'"
   ]
  },
  {
   "cell_type": "code",
   "execution_count": 24,
   "metadata": {
    "id": "6TysS_Not5NN"
   },
   "outputs": [],
   "source": [
    "lista_comparacao = np.array([])\n",
    "\n",
    "for i in range(0,len(df.title)):\n",
    "  a = sml(df['query'][i], df['concatenated_tags'][i])\n",
    "  lista_comparacao = np.append(lista_comparacao,a)\n",
    "df['sim_query_concat'] = lista_comparacao"
   ]
  },
  {
   "cell_type": "markdown",
   "metadata": {
    "id": "h63sLVF73hjW"
   },
   "source": [
    "## Criando linhas a partir dos itens da coluna 'concatenated_tags'"
   ]
  },
  {
   "cell_type": "code",
   "execution_count": 25,
   "metadata": {
    "id": "N8Xd_AHs3FJ-"
   },
   "outputs": [],
   "source": [
    "df['concatenated_tags'] = col_concat"
   ]
  },
  {
   "cell_type": "code",
   "execution_count": 26,
   "metadata": {
    "id": "KvW8apxqNA1f"
   },
   "outputs": [],
   "source": [
    "df = df.explode('concatenated_tags').reset_index().drop('index', axis=1)"
   ]
  },
  {
   "cell_type": "markdown",
   "metadata": {
    "id": "92ze0yqOc862"
   },
   "source": [
    "## Transformando creation_date em Date Time e usando apenas ano"
   ]
  },
  {
   "cell_type": "code",
   "execution_count": 27,
   "metadata": {
    "id": "RP_4fFYAW1-s"
   },
   "outputs": [],
   "source": [
    "df['creation_year'] = df['creation_date'].str[:4]"
   ]
  },
  {
   "cell_type": "markdown",
   "metadata": {
    "id": "ZQSM870izkRx"
   },
   "source": [
    "## Correlação entre as colunas"
   ]
  },
  {
   "cell_type": "code",
   "execution_count": 28,
   "metadata": {
    "colab": {
     "base_uri": "https://localhost:8080/",
     "height": 314
    },
    "id": "DOOWRk_bxpCs",
    "outputId": "47d17d23-2cdb-4c84-d20b-3566e6d281a2"
   },
   "outputs": [
    {
     "data": {
      "text/html": [
       "<style  type=\"text/css\" >\n",
       "#T_8501bc2d_dde4_11eb_85dc_988389fc4af1row0_col0,#T_8501bc2d_dde4_11eb_85dc_988389fc4af1row1_col1,#T_8501bc2d_dde4_11eb_85dc_988389fc4af1row2_col2,#T_8501bc2d_dde4_11eb_85dc_988389fc4af1row3_col3,#T_8501bc2d_dde4_11eb_85dc_988389fc4af1row4_col4,#T_8501bc2d_dde4_11eb_85dc_988389fc4af1row5_col5,#T_8501bc2d_dde4_11eb_85dc_988389fc4af1row6_col6,#T_8501bc2d_dde4_11eb_85dc_988389fc4af1row7_col7,#T_8501bc2d_dde4_11eb_85dc_988389fc4af1row8_col8,#T_8501bc2d_dde4_11eb_85dc_988389fc4af1row9_col9,#T_8501bc2d_dde4_11eb_85dc_988389fc4af1row10_col10,#T_8501bc2d_dde4_11eb_85dc_988389fc4af1row11_col11,#T_8501bc2d_dde4_11eb_85dc_988389fc4af1row12_col12{\n",
       "            background-color:  #b40426;\n",
       "            color:  #f1f1f1;\n",
       "        }#T_8501bc2d_dde4_11eb_85dc_988389fc4af1row0_col1{\n",
       "            background-color:  #3e51c5;\n",
       "            color:  #f1f1f1;\n",
       "        }#T_8501bc2d_dde4_11eb_85dc_988389fc4af1row0_col2{\n",
       "            background-color:  #5572df;\n",
       "            color:  #000000;\n",
       "        }#T_8501bc2d_dde4_11eb_85dc_988389fc4af1row0_col3,#T_8501bc2d_dde4_11eb_85dc_988389fc4af1row0_col7,#T_8501bc2d_dde4_11eb_85dc_988389fc4af1row0_col10{\n",
       "            background-color:  #5b7ae5;\n",
       "            color:  #000000;\n",
       "        }#T_8501bc2d_dde4_11eb_85dc_988389fc4af1row0_col4,#T_8501bc2d_dde4_11eb_85dc_988389fc4af1row2_col4,#T_8501bc2d_dde4_11eb_85dc_988389fc4af1row2_col6,#T_8501bc2d_dde4_11eb_85dc_988389fc4af1row3_col7,#T_8501bc2d_dde4_11eb_85dc_988389fc4af1row5_col3,#T_8501bc2d_dde4_11eb_85dc_988389fc4af1row7_col10{\n",
       "            background-color:  #5a78e4;\n",
       "            color:  #000000;\n",
       "        }#T_8501bc2d_dde4_11eb_85dc_988389fc4af1row0_col5,#T_8501bc2d_dde4_11eb_85dc_988389fc4af1row3_col5,#T_8501bc2d_dde4_11eb_85dc_988389fc4af1row4_col0,#T_8501bc2d_dde4_11eb_85dc_988389fc4af1row4_col6,#T_8501bc2d_dde4_11eb_85dc_988389fc4af1row5_col6,#T_8501bc2d_dde4_11eb_85dc_988389fc4af1row12_col5{\n",
       "            background-color:  #455cce;\n",
       "            color:  #f1f1f1;\n",
       "        }#T_8501bc2d_dde4_11eb_85dc_988389fc4af1row0_col6,#T_8501bc2d_dde4_11eb_85dc_988389fc4af1row3_col6{\n",
       "            background-color:  #516ddb;\n",
       "            color:  #000000;\n",
       "        }#T_8501bc2d_dde4_11eb_85dc_988389fc4af1row0_col8,#T_8501bc2d_dde4_11eb_85dc_988389fc4af1row5_col9{\n",
       "            background-color:  #90b2fe;\n",
       "            color:  #000000;\n",
       "        }#T_8501bc2d_dde4_11eb_85dc_988389fc4af1row0_col9,#T_8501bc2d_dde4_11eb_85dc_988389fc4af1row3_col11{\n",
       "            background-color:  #94b6ff;\n",
       "            color:  #000000;\n",
       "        }#T_8501bc2d_dde4_11eb_85dc_988389fc4af1row0_col11,#T_8501bc2d_dde4_11eb_85dc_988389fc4af1row2_col8,#T_8501bc2d_dde4_11eb_85dc_988389fc4af1row10_col8{\n",
       "            background-color:  #81a4fb;\n",
       "            color:  #000000;\n",
       "        }#T_8501bc2d_dde4_11eb_85dc_988389fc4af1row0_col12{\n",
       "            background-color:  #7da0f9;\n",
       "            color:  #000000;\n",
       "        }#T_8501bc2d_dde4_11eb_85dc_988389fc4af1row1_col0,#T_8501bc2d_dde4_11eb_85dc_988389fc4af1row3_col0,#T_8501bc2d_dde4_11eb_85dc_988389fc4af1row5_col1,#T_8501bc2d_dde4_11eb_85dc_988389fc4af1row10_col0{\n",
       "            background-color:  #4358cb;\n",
       "            color:  #f1f1f1;\n",
       "        }#T_8501bc2d_dde4_11eb_85dc_988389fc4af1row1_col2,#T_8501bc2d_dde4_11eb_85dc_988389fc4af1row9_col1,#T_8501bc2d_dde4_11eb_85dc_988389fc4af1row9_col5{\n",
       "            background-color:  #506bda;\n",
       "            color:  #000000;\n",
       "        }#T_8501bc2d_dde4_11eb_85dc_988389fc4af1row1_col3,#T_8501bc2d_dde4_11eb_85dc_988389fc4af1row1_col4,#T_8501bc2d_dde4_11eb_85dc_988389fc4af1row4_col2,#T_8501bc2d_dde4_11eb_85dc_988389fc4af1row4_col10{\n",
       "            background-color:  #5875e1;\n",
       "            color:  #000000;\n",
       "        }#T_8501bc2d_dde4_11eb_85dc_988389fc4af1row1_col5,#T_8501bc2d_dde4_11eb_85dc_988389fc4af1row9_col4,#T_8501bc2d_dde4_11eb_85dc_988389fc4af1row9_col10,#T_8501bc2d_dde4_11eb_85dc_988389fc4af1row12_col7{\n",
       "            background-color:  #4b64d5;\n",
       "            color:  #f1f1f1;\n",
       "        }#T_8501bc2d_dde4_11eb_85dc_988389fc4af1row1_col6,#T_8501bc2d_dde4_11eb_85dc_988389fc4af1row5_col2,#T_8501bc2d_dde4_11eb_85dc_988389fc4af1row8_col2{\n",
       "            background-color:  #4e68d8;\n",
       "            color:  #000000;\n",
       "        }#T_8501bc2d_dde4_11eb_85dc_988389fc4af1row1_col7,#T_8501bc2d_dde4_11eb_85dc_988389fc4af1row3_col4,#T_8501bc2d_dde4_11eb_85dc_988389fc4af1row6_col3{\n",
       "            background-color:  #5d7ce6;\n",
       "            color:  #000000;\n",
       "        }#T_8501bc2d_dde4_11eb_85dc_988389fc4af1row1_col8,#T_8501bc2d_dde4_11eb_85dc_988389fc4af1row7_col8{\n",
       "            background-color:  #92b4fe;\n",
       "            color:  #000000;\n",
       "        }#T_8501bc2d_dde4_11eb_85dc_988389fc4af1row1_col9,#T_8501bc2d_dde4_11eb_85dc_988389fc4af1row4_col5{\n",
       "            background-color:  #98b9ff;\n",
       "            color:  #000000;\n",
       "        }#T_8501bc2d_dde4_11eb_85dc_988389fc4af1row1_col10,#T_8501bc2d_dde4_11eb_85dc_988389fc4af1row6_col2{\n",
       "            background-color:  #5e7de7;\n",
       "            color:  #000000;\n",
       "        }#T_8501bc2d_dde4_11eb_85dc_988389fc4af1row1_col11,#T_8501bc2d_dde4_11eb_85dc_988389fc4af1row1_col12,#T_8501bc2d_dde4_11eb_85dc_988389fc4af1row2_col11{\n",
       "            background-color:  #8db0fe;\n",
       "            color:  #000000;\n",
       "        }#T_8501bc2d_dde4_11eb_85dc_988389fc4af1row2_col0,#T_8501bc2d_dde4_11eb_85dc_988389fc4af1row6_col0,#T_8501bc2d_dde4_11eb_85dc_988389fc4af1row7_col1,#T_8501bc2d_dde4_11eb_85dc_988389fc4af1row11_col1,#T_8501bc2d_dde4_11eb_85dc_988389fc4af1row11_col5{\n",
       "            background-color:  #445acc;\n",
       "            color:  #f1f1f1;\n",
       "        }#T_8501bc2d_dde4_11eb_85dc_988389fc4af1row2_col1,#T_8501bc2d_dde4_11eb_85dc_988389fc4af1row3_col1,#T_8501bc2d_dde4_11eb_85dc_988389fc4af1row3_col10,#T_8501bc2d_dde4_11eb_85dc_988389fc4af1row4_col7,#T_8501bc2d_dde4_11eb_85dc_988389fc4af1row7_col4,#T_8501bc2d_dde4_11eb_85dc_988389fc4af1row7_col5,#T_8501bc2d_dde4_11eb_85dc_988389fc4af1row8_col6,#T_8501bc2d_dde4_11eb_85dc_988389fc4af1row9_col6,#T_8501bc2d_dde4_11eb_85dc_988389fc4af1row9_col11,#T_8501bc2d_dde4_11eb_85dc_988389fc4af1row9_col12,#T_8501bc2d_dde4_11eb_85dc_988389fc4af1row10_col2,#T_8501bc2d_dde4_11eb_85dc_988389fc4af1row10_col3,#T_8501bc2d_dde4_11eb_85dc_988389fc4af1row10_col5,#T_8501bc2d_dde4_11eb_85dc_988389fc4af1row11_col0,#T_8501bc2d_dde4_11eb_85dc_988389fc4af1row11_col8,#T_8501bc2d_dde4_11eb_85dc_988389fc4af1row11_col9{\n",
       "            background-color:  #3b4cc0;\n",
       "            color:  #f1f1f1;\n",
       "        }#T_8501bc2d_dde4_11eb_85dc_988389fc4af1row2_col3,#T_8501bc2d_dde4_11eb_85dc_988389fc4af1row6_col8{\n",
       "            background-color:  #7396f5;\n",
       "            color:  #000000;\n",
       "        }#T_8501bc2d_dde4_11eb_85dc_988389fc4af1row2_col5,#T_8501bc2d_dde4_11eb_85dc_988389fc4af1row2_col10,#T_8501bc2d_dde4_11eb_85dc_988389fc4af1row10_col1,#T_8501bc2d_dde4_11eb_85dc_988389fc4af1row12_col8{\n",
       "            background-color:  #4257c9;\n",
       "            color:  #f1f1f1;\n",
       "        }#T_8501bc2d_dde4_11eb_85dc_988389fc4af1row2_col7{\n",
       "            background-color:  #6788ee;\n",
       "            color:  #000000;\n",
       "        }#T_8501bc2d_dde4_11eb_85dc_988389fc4af1row2_col9,#T_8501bc2d_dde4_11eb_85dc_988389fc4af1row4_col8{\n",
       "            background-color:  #84a7fc;\n",
       "            color:  #000000;\n",
       "        }#T_8501bc2d_dde4_11eb_85dc_988389fc4af1row2_col12,#T_8501bc2d_dde4_11eb_85dc_988389fc4af1row4_col9{\n",
       "            background-color:  #7ea1fa;\n",
       "            color:  #000000;\n",
       "        }#T_8501bc2d_dde4_11eb_85dc_988389fc4af1row3_col2{\n",
       "            background-color:  #6b8df0;\n",
       "            color:  #000000;\n",
       "        }#T_8501bc2d_dde4_11eb_85dc_988389fc4af1row3_col8{\n",
       "            background-color:  #7699f6;\n",
       "            color:  #000000;\n",
       "        }#T_8501bc2d_dde4_11eb_85dc_988389fc4af1row3_col9,#T_8501bc2d_dde4_11eb_85dc_988389fc4af1row6_col7{\n",
       "            background-color:  #799cf8;\n",
       "            color:  #000000;\n",
       "        }#T_8501bc2d_dde4_11eb_85dc_988389fc4af1row3_col12,#T_8501bc2d_dde4_11eb_85dc_988389fc4af1row6_col11{\n",
       "            background-color:  #8badfd;\n",
       "            color:  #000000;\n",
       "        }#T_8501bc2d_dde4_11eb_85dc_988389fc4af1row4_col1,#T_8501bc2d_dde4_11eb_85dc_988389fc4af1row12_col9{\n",
       "            background-color:  #3f53c6;\n",
       "            color:  #f1f1f1;\n",
       "        }#T_8501bc2d_dde4_11eb_85dc_988389fc4af1row4_col3{\n",
       "            background-color:  #6180e9;\n",
       "            color:  #000000;\n",
       "        }#T_8501bc2d_dde4_11eb_85dc_988389fc4af1row4_col11{\n",
       "            background-color:  #93b5fe;\n",
       "            color:  #000000;\n",
       "        }#T_8501bc2d_dde4_11eb_85dc_988389fc4af1row4_col12,#T_8501bc2d_dde4_11eb_85dc_988389fc4af1row5_col8{\n",
       "            background-color:  #8fb1fe;\n",
       "            color:  #000000;\n",
       "        }#T_8501bc2d_dde4_11eb_85dc_988389fc4af1row5_col0{\n",
       "            background-color:  #4055c8;\n",
       "            color:  #f1f1f1;\n",
       "        }#T_8501bc2d_dde4_11eb_85dc_988389fc4af1row5_col4{\n",
       "            background-color:  #a6c4fe;\n",
       "            color:  #000000;\n",
       "        }#T_8501bc2d_dde4_11eb_85dc_988389fc4af1row5_col7,#T_8501bc2d_dde4_11eb_85dc_988389fc4af1row8_col1,#T_8501bc2d_dde4_11eb_85dc_988389fc4af1row8_col3,#T_8501bc2d_dde4_11eb_85dc_988389fc4af1row9_col3{\n",
       "            background-color:  #4a63d3;\n",
       "            color:  #f1f1f1;\n",
       "        }#T_8501bc2d_dde4_11eb_85dc_988389fc4af1row5_col10,#T_8501bc2d_dde4_11eb_85dc_988389fc4af1row8_col5,#T_8501bc2d_dde4_11eb_85dc_988389fc4af1row9_col0,#T_8501bc2d_dde4_11eb_85dc_988389fc4af1row9_col2,#T_8501bc2d_dde4_11eb_85dc_988389fc4af1row12_col2{\n",
       "            background-color:  #4f69d9;\n",
       "            color:  #000000;\n",
       "        }#T_8501bc2d_dde4_11eb_85dc_988389fc4af1row5_col11,#T_8501bc2d_dde4_11eb_85dc_988389fc4af1row6_col12{\n",
       "            background-color:  #86a9fc;\n",
       "            color:  #000000;\n",
       "        }#T_8501bc2d_dde4_11eb_85dc_988389fc4af1row5_col12{\n",
       "            background-color:  #82a6fb;\n",
       "            color:  #000000;\n",
       "        }#T_8501bc2d_dde4_11eb_85dc_988389fc4af1row6_col1,#T_8501bc2d_dde4_11eb_85dc_988389fc4af1row8_col11,#T_8501bc2d_dde4_11eb_85dc_988389fc4af1row12_col0{\n",
       "            background-color:  #3c4ec2;\n",
       "            color:  #f1f1f1;\n",
       "        }#T_8501bc2d_dde4_11eb_85dc_988389fc4af1row6_col4,#T_8501bc2d_dde4_11eb_85dc_988389fc4af1row8_col0{\n",
       "            background-color:  #4c66d6;\n",
       "            color:  #000000;\n",
       "        }#T_8501bc2d_dde4_11eb_85dc_988389fc4af1row6_col5,#T_8501bc2d_dde4_11eb_85dc_988389fc4af1row8_col12{\n",
       "            background-color:  #3d50c3;\n",
       "            color:  #f1f1f1;\n",
       "        }#T_8501bc2d_dde4_11eb_85dc_988389fc4af1row6_col9{\n",
       "            background-color:  #7597f6;\n",
       "            color:  #000000;\n",
       "        }#T_8501bc2d_dde4_11eb_85dc_988389fc4af1row6_col10,#T_8501bc2d_dde4_11eb_85dc_988389fc4af1row7_col6{\n",
       "            background-color:  #7295f4;\n",
       "            color:  #000000;\n",
       "        }#T_8501bc2d_dde4_11eb_85dc_988389fc4af1row7_col0,#T_8501bc2d_dde4_11eb_85dc_988389fc4af1row11_col7{\n",
       "            background-color:  #485fd1;\n",
       "            color:  #f1f1f1;\n",
       "        }#T_8501bc2d_dde4_11eb_85dc_988389fc4af1row7_col2,#T_8501bc2d_dde4_11eb_85dc_988389fc4af1row9_col7,#T_8501bc2d_dde4_11eb_85dc_988389fc4af1row12_col4{\n",
       "            background-color:  #6485ec;\n",
       "            color:  #000000;\n",
       "        }#T_8501bc2d_dde4_11eb_85dc_988389fc4af1row7_col3{\n",
       "            background-color:  #5f7fe8;\n",
       "            color:  #000000;\n",
       "        }#T_8501bc2d_dde4_11eb_85dc_988389fc4af1row7_col9{\n",
       "            background-color:  #96b7ff;\n",
       "            color:  #000000;\n",
       "        }#T_8501bc2d_dde4_11eb_85dc_988389fc4af1row7_col11,#T_8501bc2d_dde4_11eb_85dc_988389fc4af1row10_col9{\n",
       "            background-color:  #7a9df8;\n",
       "            color:  #000000;\n",
       "        }#T_8501bc2d_dde4_11eb_85dc_988389fc4af1row7_col12{\n",
       "            background-color:  #779af7;\n",
       "            color:  #000000;\n",
       "        }#T_8501bc2d_dde4_11eb_85dc_988389fc4af1row8_col4,#T_8501bc2d_dde4_11eb_85dc_988389fc4af1row8_col10,#T_8501bc2d_dde4_11eb_85dc_988389fc4af1row10_col4{\n",
       "            background-color:  #5470de;\n",
       "            color:  #000000;\n",
       "        }#T_8501bc2d_dde4_11eb_85dc_988389fc4af1row8_col7,#T_8501bc2d_dde4_11eb_85dc_988389fc4af1row12_col3{\n",
       "            background-color:  #6384eb;\n",
       "            color:  #000000;\n",
       "        }#T_8501bc2d_dde4_11eb_85dc_988389fc4af1row8_col9,#T_8501bc2d_dde4_11eb_85dc_988389fc4af1row9_col8{\n",
       "            background-color:  #f4987a;\n",
       "            color:  #000000;\n",
       "        }#T_8501bc2d_dde4_11eb_85dc_988389fc4af1row10_col6{\n",
       "            background-color:  #6687ed;\n",
       "            color:  #000000;\n",
       "        }#T_8501bc2d_dde4_11eb_85dc_988389fc4af1row10_col7{\n",
       "            background-color:  #5673e0;\n",
       "            color:  #000000;\n",
       "        }#T_8501bc2d_dde4_11eb_85dc_988389fc4af1row10_col11{\n",
       "            background-color:  #adc9fd;\n",
       "            color:  #000000;\n",
       "        }#T_8501bc2d_dde4_11eb_85dc_988389fc4af1row10_col12{\n",
       "            background-color:  #d3dbe7;\n",
       "            color:  #000000;\n",
       "        }#T_8501bc2d_dde4_11eb_85dc_988389fc4af1row11_col2{\n",
       "            background-color:  #5977e3;\n",
       "            color:  #000000;\n",
       "        }#T_8501bc2d_dde4_11eb_85dc_988389fc4af1row11_col3{\n",
       "            background-color:  #688aef;\n",
       "            color:  #000000;\n",
       "        }#T_8501bc2d_dde4_11eb_85dc_988389fc4af1row11_col4{\n",
       "            background-color:  #6282ea;\n",
       "            color:  #000000;\n",
       "        }#T_8501bc2d_dde4_11eb_85dc_988389fc4af1row11_col6,#T_8501bc2d_dde4_11eb_85dc_988389fc4af1row12_col6{\n",
       "            background-color:  #536edd;\n",
       "            color:  #000000;\n",
       "        }#T_8501bc2d_dde4_11eb_85dc_988389fc4af1row11_col10{\n",
       "            background-color:  #85a8fc;\n",
       "            color:  #000000;\n",
       "        }#T_8501bc2d_dde4_11eb_85dc_988389fc4af1row11_col12{\n",
       "            background-color:  #eb7d62;\n",
       "            color:  #000000;\n",
       "        }#T_8501bc2d_dde4_11eb_85dc_988389fc4af1row12_col1{\n",
       "            background-color:  #4961d2;\n",
       "            color:  #f1f1f1;\n",
       "        }#T_8501bc2d_dde4_11eb_85dc_988389fc4af1row12_col10{\n",
       "            background-color:  #bbd1f8;\n",
       "            color:  #000000;\n",
       "        }#T_8501bc2d_dde4_11eb_85dc_988389fc4af1row12_col11{\n",
       "            background-color:  #ea7b60;\n",
       "            color:  #000000;\n",
       "        }</style><table id=\"T_8501bc2d_dde4_11eb_85dc_988389fc4af1\" ><thead>    <tr>        <th class=\"blank level0\" ></th>        <th class=\"col_heading level0 col0\" >product_id</th>        <th class=\"col_heading level0 col1\" >seller_id</th>        <th class=\"col_heading level0 col2\" >search_page</th>        <th class=\"col_heading level0 col3\" >position</th>        <th class=\"col_heading level0 col4\" >price</th>        <th class=\"col_heading level0 col5\" >weight</th>        <th class=\"col_heading level0 col6\" >express_delivery</th>        <th class=\"col_heading level0 col7\" >minimum_quantity</th>        <th class=\"col_heading level0 col8\" >view_counts</th>        <th class=\"col_heading level0 col9\" >order_counts</th>        <th class=\"col_heading level0 col10\" >sim_title_query</th>        <th class=\"col_heading level0 col11\" >sim_title_concat</th>        <th class=\"col_heading level0 col12\" >sim_query_concat</th>    </tr></thead><tbody>\n",
       "                <tr>\n",
       "                        <th id=\"T_8501bc2d_dde4_11eb_85dc_988389fc4af1level0_row0\" class=\"row_heading level0 row0\" >product_id</th>\n",
       "                        <td id=\"T_8501bc2d_dde4_11eb_85dc_988389fc4af1row0_col0\" class=\"data row0 col0\" >1.00</td>\n",
       "                        <td id=\"T_8501bc2d_dde4_11eb_85dc_988389fc4af1row0_col1\" class=\"data row0 col1\" >-0.01</td>\n",
       "                        <td id=\"T_8501bc2d_dde4_11eb_85dc_988389fc4af1row0_col2\" class=\"data row0 col2\" >-0.00</td>\n",
       "                        <td id=\"T_8501bc2d_dde4_11eb_85dc_988389fc4af1row0_col3\" class=\"data row0 col3\" >-0.00</td>\n",
       "                        <td id=\"T_8501bc2d_dde4_11eb_85dc_988389fc4af1row0_col4\" class=\"data row0 col4\" >0.00</td>\n",
       "                        <td id=\"T_8501bc2d_dde4_11eb_85dc_988389fc4af1row0_col5\" class=\"data row0 col5\" >-0.01</td>\n",
       "                        <td id=\"T_8501bc2d_dde4_11eb_85dc_988389fc4af1row0_col6\" class=\"data row0 col6\" >0.00</td>\n",
       "                        <td id=\"T_8501bc2d_dde4_11eb_85dc_988389fc4af1row0_col7\" class=\"data row0 col7\" >0.01</td>\n",
       "                        <td id=\"T_8501bc2d_dde4_11eb_85dc_988389fc4af1row0_col8\" class=\"data row0 col8\" >0.02</td>\n",
       "                        <td id=\"T_8501bc2d_dde4_11eb_85dc_988389fc4af1row0_col9\" class=\"data row0 col9\" >0.04</td>\n",
       "                        <td id=\"T_8501bc2d_dde4_11eb_85dc_988389fc4af1row0_col10\" class=\"data row0 col10\" >-0.01</td>\n",
       "                        <td id=\"T_8501bc2d_dde4_11eb_85dc_988389fc4af1row0_col11\" class=\"data row0 col11\" >-0.04</td>\n",
       "                        <td id=\"T_8501bc2d_dde4_11eb_85dc_988389fc4af1row0_col12\" class=\"data row0 col12\" >-0.03</td>\n",
       "            </tr>\n",
       "            <tr>\n",
       "                        <th id=\"T_8501bc2d_dde4_11eb_85dc_988389fc4af1level0_row1\" class=\"row_heading level0 row1\" >seller_id</th>\n",
       "                        <td id=\"T_8501bc2d_dde4_11eb_85dc_988389fc4af1row1_col0\" class=\"data row1 col0\" >-0.01</td>\n",
       "                        <td id=\"T_8501bc2d_dde4_11eb_85dc_988389fc4af1row1_col1\" class=\"data row1 col1\" >1.00</td>\n",
       "                        <td id=\"T_8501bc2d_dde4_11eb_85dc_988389fc4af1row1_col2\" class=\"data row1 col2\" >-0.02</td>\n",
       "                        <td id=\"T_8501bc2d_dde4_11eb_85dc_988389fc4af1row1_col3\" class=\"data row1 col3\" >-0.02</td>\n",
       "                        <td id=\"T_8501bc2d_dde4_11eb_85dc_988389fc4af1row1_col4\" class=\"data row1 col4\" >-0.00</td>\n",
       "                        <td id=\"T_8501bc2d_dde4_11eb_85dc_988389fc4af1row1_col5\" class=\"data row1 col5\" >0.01</td>\n",
       "                        <td id=\"T_8501bc2d_dde4_11eb_85dc_988389fc4af1row1_col6\" class=\"data row1 col6\" >-0.01</td>\n",
       "                        <td id=\"T_8501bc2d_dde4_11eb_85dc_988389fc4af1row1_col7\" class=\"data row1 col7\" >0.01</td>\n",
       "                        <td id=\"T_8501bc2d_dde4_11eb_85dc_988389fc4af1row1_col8\" class=\"data row1 col8\" >0.03</td>\n",
       "                        <td id=\"T_8501bc2d_dde4_11eb_85dc_988389fc4af1row1_col9\" class=\"data row1 col9\" >0.05</td>\n",
       "                        <td id=\"T_8501bc2d_dde4_11eb_85dc_988389fc4af1row1_col10\" class=\"data row1 col10\" >0.00</td>\n",
       "                        <td id=\"T_8501bc2d_dde4_11eb_85dc_988389fc4af1row1_col11\" class=\"data row1 col11\" >0.01</td>\n",
       "                        <td id=\"T_8501bc2d_dde4_11eb_85dc_988389fc4af1row1_col12\" class=\"data row1 col12\" >0.03</td>\n",
       "            </tr>\n",
       "            <tr>\n",
       "                        <th id=\"T_8501bc2d_dde4_11eb_85dc_988389fc4af1level0_row2\" class=\"row_heading level0 row2\" >search_page</th>\n",
       "                        <td id=\"T_8501bc2d_dde4_11eb_85dc_988389fc4af1row2_col0\" class=\"data row2 col0\" >-0.00</td>\n",
       "                        <td id=\"T_8501bc2d_dde4_11eb_85dc_988389fc4af1row2_col1\" class=\"data row2 col1\" >-0.02</td>\n",
       "                        <td id=\"T_8501bc2d_dde4_11eb_85dc_988389fc4af1row2_col2\" class=\"data row2 col2\" >1.00</td>\n",
       "                        <td id=\"T_8501bc2d_dde4_11eb_85dc_988389fc4af1row2_col3\" class=\"data row2 col3\" >0.07</td>\n",
       "                        <td id=\"T_8501bc2d_dde4_11eb_85dc_988389fc4af1row2_col4\" class=\"data row2 col4\" >0.00</td>\n",
       "                        <td id=\"T_8501bc2d_dde4_11eb_85dc_988389fc4af1row2_col5\" class=\"data row2 col5\" >-0.03</td>\n",
       "                        <td id=\"T_8501bc2d_dde4_11eb_85dc_988389fc4af1row2_col6\" class=\"data row2 col6\" >0.03</td>\n",
       "                        <td id=\"T_8501bc2d_dde4_11eb_85dc_988389fc4af1row2_col7\" class=\"data row2 col7\" >0.05</td>\n",
       "                        <td id=\"T_8501bc2d_dde4_11eb_85dc_988389fc4af1row2_col8\" class=\"data row2 col8\" >-0.03</td>\n",
       "                        <td id=\"T_8501bc2d_dde4_11eb_85dc_988389fc4af1row2_col9\" class=\"data row2 col9\" >-0.02</td>\n",
       "                        <td id=\"T_8501bc2d_dde4_11eb_85dc_988389fc4af1row2_col10\" class=\"data row2 col10\" >-0.10</td>\n",
       "                        <td id=\"T_8501bc2d_dde4_11eb_85dc_988389fc4af1row2_col11\" class=\"data row2 col11\" >0.01</td>\n",
       "                        <td id=\"T_8501bc2d_dde4_11eb_85dc_988389fc4af1row2_col12\" class=\"data row2 col12\" >-0.03</td>\n",
       "            </tr>\n",
       "            <tr>\n",
       "                        <th id=\"T_8501bc2d_dde4_11eb_85dc_988389fc4af1level0_row3\" class=\"row_heading level0 row3\" >position</th>\n",
       "                        <td id=\"T_8501bc2d_dde4_11eb_85dc_988389fc4af1row3_col0\" class=\"data row3 col0\" >-0.00</td>\n",
       "                        <td id=\"T_8501bc2d_dde4_11eb_85dc_988389fc4af1row3_col1\" class=\"data row3 col1\" >-0.02</td>\n",
       "                        <td id=\"T_8501bc2d_dde4_11eb_85dc_988389fc4af1row3_col2\" class=\"data row3 col2\" >0.07</td>\n",
       "                        <td id=\"T_8501bc2d_dde4_11eb_85dc_988389fc4af1row3_col3\" class=\"data row3 col3\" >1.00</td>\n",
       "                        <td id=\"T_8501bc2d_dde4_11eb_85dc_988389fc4af1row3_col4\" class=\"data row3 col4\" >0.01</td>\n",
       "                        <td id=\"T_8501bc2d_dde4_11eb_85dc_988389fc4af1row3_col5\" class=\"data row3 col5\" >-0.01</td>\n",
       "                        <td id=\"T_8501bc2d_dde4_11eb_85dc_988389fc4af1row3_col6\" class=\"data row3 col6\" >-0.00</td>\n",
       "                        <td id=\"T_8501bc2d_dde4_11eb_85dc_988389fc4af1row3_col7\" class=\"data row3 col7\" >0.01</td>\n",
       "                        <td id=\"T_8501bc2d_dde4_11eb_85dc_988389fc4af1row3_col8\" class=\"data row3 col8\" >-0.07</td>\n",
       "                        <td id=\"T_8501bc2d_dde4_11eb_85dc_988389fc4af1row3_col9\" class=\"data row3 col9\" >-0.07</td>\n",
       "                        <td id=\"T_8501bc2d_dde4_11eb_85dc_988389fc4af1row3_col10\" class=\"data row3 col10\" >-0.13</td>\n",
       "                        <td id=\"T_8501bc2d_dde4_11eb_85dc_988389fc4af1row3_col11\" class=\"data row3 col11\" >0.04</td>\n",
       "                        <td id=\"T_8501bc2d_dde4_11eb_85dc_988389fc4af1row3_col12\" class=\"data row3 col12\" >0.02</td>\n",
       "            </tr>\n",
       "            <tr>\n",
       "                        <th id=\"T_8501bc2d_dde4_11eb_85dc_988389fc4af1level0_row4\" class=\"row_heading level0 row4\" >price</th>\n",
       "                        <td id=\"T_8501bc2d_dde4_11eb_85dc_988389fc4af1row4_col0\" class=\"data row4 col0\" >0.00</td>\n",
       "                        <td id=\"T_8501bc2d_dde4_11eb_85dc_988389fc4af1row4_col1\" class=\"data row4 col1\" >-0.00</td>\n",
       "                        <td id=\"T_8501bc2d_dde4_11eb_85dc_988389fc4af1row4_col2\" class=\"data row4 col2\" >0.00</td>\n",
       "                        <td id=\"T_8501bc2d_dde4_11eb_85dc_988389fc4af1row4_col3\" class=\"data row4 col3\" >0.01</td>\n",
       "                        <td id=\"T_8501bc2d_dde4_11eb_85dc_988389fc4af1row4_col4\" class=\"data row4 col4\" >1.00</td>\n",
       "                        <td id=\"T_8501bc2d_dde4_11eb_85dc_988389fc4af1row4_col5\" class=\"data row4 col5\" >0.24</td>\n",
       "                        <td id=\"T_8501bc2d_dde4_11eb_85dc_988389fc4af1row4_col6\" class=\"data row4 col6\" >-0.04</td>\n",
       "                        <td id=\"T_8501bc2d_dde4_11eb_85dc_988389fc4af1row4_col7\" class=\"data row4 col7\" >-0.11</td>\n",
       "                        <td id=\"T_8501bc2d_dde4_11eb_85dc_988389fc4af1row4_col8\" class=\"data row4 col8\" >-0.02</td>\n",
       "                        <td id=\"T_8501bc2d_dde4_11eb_85dc_988389fc4af1row4_col9\" class=\"data row4 col9\" >-0.05</td>\n",
       "                        <td id=\"T_8501bc2d_dde4_11eb_85dc_988389fc4af1row4_col10\" class=\"data row4 col10\" >-0.02</td>\n",
       "                        <td id=\"T_8501bc2d_dde4_11eb_85dc_988389fc4af1row4_col11\" class=\"data row4 col11\" >0.03</td>\n",
       "                        <td id=\"T_8501bc2d_dde4_11eb_85dc_988389fc4af1row4_col12\" class=\"data row4 col12\" >0.04</td>\n",
       "            </tr>\n",
       "            <tr>\n",
       "                        <th id=\"T_8501bc2d_dde4_11eb_85dc_988389fc4af1level0_row5\" class=\"row_heading level0 row5\" >weight</th>\n",
       "                        <td id=\"T_8501bc2d_dde4_11eb_85dc_988389fc4af1row5_col0\" class=\"data row5 col0\" >-0.01</td>\n",
       "                        <td id=\"T_8501bc2d_dde4_11eb_85dc_988389fc4af1row5_col1\" class=\"data row5 col1\" >0.01</td>\n",
       "                        <td id=\"T_8501bc2d_dde4_11eb_85dc_988389fc4af1row5_col2\" class=\"data row5 col2\" >-0.03</td>\n",
       "                        <td id=\"T_8501bc2d_dde4_11eb_85dc_988389fc4af1row5_col3\" class=\"data row5 col3\" >-0.01</td>\n",
       "                        <td id=\"T_8501bc2d_dde4_11eb_85dc_988389fc4af1row5_col4\" class=\"data row5 col4\" >0.24</td>\n",
       "                        <td id=\"T_8501bc2d_dde4_11eb_85dc_988389fc4af1row5_col5\" class=\"data row5 col5\" >1.00</td>\n",
       "                        <td id=\"T_8501bc2d_dde4_11eb_85dc_988389fc4af1row5_col6\" class=\"data row5 col6\" >-0.04</td>\n",
       "                        <td id=\"T_8501bc2d_dde4_11eb_85dc_988389fc4af1row5_col7\" class=\"data row5 col7\" >-0.05</td>\n",
       "                        <td id=\"T_8501bc2d_dde4_11eb_85dc_988389fc4af1row5_col8\" class=\"data row5 col8\" >0.02</td>\n",
       "                        <td id=\"T_8501bc2d_dde4_11eb_85dc_988389fc4af1row5_col9\" class=\"data row5 col9\" >0.02</td>\n",
       "                        <td id=\"T_8501bc2d_dde4_11eb_85dc_988389fc4af1row5_col10\" class=\"data row5 col10\" >-0.05</td>\n",
       "                        <td id=\"T_8501bc2d_dde4_11eb_85dc_988389fc4af1row5_col11\" class=\"data row5 col11\" >-0.02</td>\n",
       "                        <td id=\"T_8501bc2d_dde4_11eb_85dc_988389fc4af1row5_col12\" class=\"data row5 col12\" >-0.01</td>\n",
       "            </tr>\n",
       "            <tr>\n",
       "                        <th id=\"T_8501bc2d_dde4_11eb_85dc_988389fc4af1level0_row6\" class=\"row_heading level0 row6\" >express_delivery</th>\n",
       "                        <td id=\"T_8501bc2d_dde4_11eb_85dc_988389fc4af1row6_col0\" class=\"data row6 col0\" >0.00</td>\n",
       "                        <td id=\"T_8501bc2d_dde4_11eb_85dc_988389fc4af1row6_col1\" class=\"data row6 col1\" >-0.01</td>\n",
       "                        <td id=\"T_8501bc2d_dde4_11eb_85dc_988389fc4af1row6_col2\" class=\"data row6 col2\" >0.03</td>\n",
       "                        <td id=\"T_8501bc2d_dde4_11eb_85dc_988389fc4af1row6_col3\" class=\"data row6 col3\" >-0.00</td>\n",
       "                        <td id=\"T_8501bc2d_dde4_11eb_85dc_988389fc4af1row6_col4\" class=\"data row6 col4\" >-0.04</td>\n",
       "                        <td id=\"T_8501bc2d_dde4_11eb_85dc_988389fc4af1row6_col5\" class=\"data row6 col5\" >-0.04</td>\n",
       "                        <td id=\"T_8501bc2d_dde4_11eb_85dc_988389fc4af1row6_col6\" class=\"data row6 col6\" >1.00</td>\n",
       "                        <td id=\"T_8501bc2d_dde4_11eb_85dc_988389fc4af1row6_col7\" class=\"data row6 col7\" >0.10</td>\n",
       "                        <td id=\"T_8501bc2d_dde4_11eb_85dc_988389fc4af1row6_col8\" class=\"data row6 col8\" >-0.08</td>\n",
       "                        <td id=\"T_8501bc2d_dde4_11eb_85dc_988389fc4af1row6_col9\" class=\"data row6 col9\" >-0.08</td>\n",
       "                        <td id=\"T_8501bc2d_dde4_11eb_85dc_988389fc4af1row6_col10\" class=\"data row6 col10\" >0.07</td>\n",
       "                        <td id=\"T_8501bc2d_dde4_11eb_85dc_988389fc4af1row6_col11\" class=\"data row6 col11\" >0.00</td>\n",
       "                        <td id=\"T_8501bc2d_dde4_11eb_85dc_988389fc4af1row6_col12\" class=\"data row6 col12\" >0.00</td>\n",
       "            </tr>\n",
       "            <tr>\n",
       "                        <th id=\"T_8501bc2d_dde4_11eb_85dc_988389fc4af1level0_row7\" class=\"row_heading level0 row7\" >minimum_quantity</th>\n",
       "                        <td id=\"T_8501bc2d_dde4_11eb_85dc_988389fc4af1row7_col0\" class=\"data row7 col0\" >0.01</td>\n",
       "                        <td id=\"T_8501bc2d_dde4_11eb_85dc_988389fc4af1row7_col1\" class=\"data row7 col1\" >0.01</td>\n",
       "                        <td id=\"T_8501bc2d_dde4_11eb_85dc_988389fc4af1row7_col2\" class=\"data row7 col2\" >0.05</td>\n",
       "                        <td id=\"T_8501bc2d_dde4_11eb_85dc_988389fc4af1row7_col3\" class=\"data row7 col3\" >0.01</td>\n",
       "                        <td id=\"T_8501bc2d_dde4_11eb_85dc_988389fc4af1row7_col4\" class=\"data row7 col4\" >-0.11</td>\n",
       "                        <td id=\"T_8501bc2d_dde4_11eb_85dc_988389fc4af1row7_col5\" class=\"data row7 col5\" >-0.05</td>\n",
       "                        <td id=\"T_8501bc2d_dde4_11eb_85dc_988389fc4af1row7_col6\" class=\"data row7 col6\" >0.10</td>\n",
       "                        <td id=\"T_8501bc2d_dde4_11eb_85dc_988389fc4af1row7_col7\" class=\"data row7 col7\" >1.00</td>\n",
       "                        <td id=\"T_8501bc2d_dde4_11eb_85dc_988389fc4af1row7_col8\" class=\"data row7 col8\" >0.03</td>\n",
       "                        <td id=\"T_8501bc2d_dde4_11eb_85dc_988389fc4af1row7_col9\" class=\"data row7 col9\" >0.04</td>\n",
       "                        <td id=\"T_8501bc2d_dde4_11eb_85dc_988389fc4af1row7_col10\" class=\"data row7 col10\" >-0.01</td>\n",
       "                        <td id=\"T_8501bc2d_dde4_11eb_85dc_988389fc4af1row7_col11\" class=\"data row7 col11\" >-0.06</td>\n",
       "                        <td id=\"T_8501bc2d_dde4_11eb_85dc_988389fc4af1row7_col12\" class=\"data row7 col12\" >-0.05</td>\n",
       "            </tr>\n",
       "            <tr>\n",
       "                        <th id=\"T_8501bc2d_dde4_11eb_85dc_988389fc4af1level0_row8\" class=\"row_heading level0 row8\" >view_counts</th>\n",
       "                        <td id=\"T_8501bc2d_dde4_11eb_85dc_988389fc4af1row8_col0\" class=\"data row8 col0\" >0.02</td>\n",
       "                        <td id=\"T_8501bc2d_dde4_11eb_85dc_988389fc4af1row8_col1\" class=\"data row8 col1\" >0.03</td>\n",
       "                        <td id=\"T_8501bc2d_dde4_11eb_85dc_988389fc4af1row8_col2\" class=\"data row8 col2\" >-0.03</td>\n",
       "                        <td id=\"T_8501bc2d_dde4_11eb_85dc_988389fc4af1row8_col3\" class=\"data row8 col3\" >-0.07</td>\n",
       "                        <td id=\"T_8501bc2d_dde4_11eb_85dc_988389fc4af1row8_col4\" class=\"data row8 col4\" >-0.02</td>\n",
       "                        <td id=\"T_8501bc2d_dde4_11eb_85dc_988389fc4af1row8_col5\" class=\"data row8 col5\" >0.02</td>\n",
       "                        <td id=\"T_8501bc2d_dde4_11eb_85dc_988389fc4af1row8_col6\" class=\"data row8 col6\" >-0.08</td>\n",
       "                        <td id=\"T_8501bc2d_dde4_11eb_85dc_988389fc4af1row8_col7\" class=\"data row8 col7\" >0.03</td>\n",
       "                        <td id=\"T_8501bc2d_dde4_11eb_85dc_988389fc4af1row8_col8\" class=\"data row8 col8\" >1.00</td>\n",
       "                        <td id=\"T_8501bc2d_dde4_11eb_85dc_988389fc4af1row8_col9\" class=\"data row8 col9\" >0.67</td>\n",
       "                        <td id=\"T_8501bc2d_dde4_11eb_85dc_988389fc4af1row8_col10\" class=\"data row8 col10\" >-0.03</td>\n",
       "                        <td id=\"T_8501bc2d_dde4_11eb_85dc_988389fc4af1row8_col11\" class=\"data row8 col11\" >-0.32</td>\n",
       "                        <td id=\"T_8501bc2d_dde4_11eb_85dc_988389fc4af1row8_col12\" class=\"data row8 col12\" >-0.28</td>\n",
       "            </tr>\n",
       "            <tr>\n",
       "                        <th id=\"T_8501bc2d_dde4_11eb_85dc_988389fc4af1level0_row9\" class=\"row_heading level0 row9\" >order_counts</th>\n",
       "                        <td id=\"T_8501bc2d_dde4_11eb_85dc_988389fc4af1row9_col0\" class=\"data row9 col0\" >0.04</td>\n",
       "                        <td id=\"T_8501bc2d_dde4_11eb_85dc_988389fc4af1row9_col1\" class=\"data row9 col1\" >0.05</td>\n",
       "                        <td id=\"T_8501bc2d_dde4_11eb_85dc_988389fc4af1row9_col2\" class=\"data row9 col2\" >-0.02</td>\n",
       "                        <td id=\"T_8501bc2d_dde4_11eb_85dc_988389fc4af1row9_col3\" class=\"data row9 col3\" >-0.07</td>\n",
       "                        <td id=\"T_8501bc2d_dde4_11eb_85dc_988389fc4af1row9_col4\" class=\"data row9 col4\" >-0.05</td>\n",
       "                        <td id=\"T_8501bc2d_dde4_11eb_85dc_988389fc4af1row9_col5\" class=\"data row9 col5\" >0.02</td>\n",
       "                        <td id=\"T_8501bc2d_dde4_11eb_85dc_988389fc4af1row9_col6\" class=\"data row9 col6\" >-0.08</td>\n",
       "                        <td id=\"T_8501bc2d_dde4_11eb_85dc_988389fc4af1row9_col7\" class=\"data row9 col7\" >0.04</td>\n",
       "                        <td id=\"T_8501bc2d_dde4_11eb_85dc_988389fc4af1row9_col8\" class=\"data row9 col8\" >0.67</td>\n",
       "                        <td id=\"T_8501bc2d_dde4_11eb_85dc_988389fc4af1row9_col9\" class=\"data row9 col9\" >1.00</td>\n",
       "                        <td id=\"T_8501bc2d_dde4_11eb_85dc_988389fc4af1row9_col10\" class=\"data row9 col10\" >-0.06</td>\n",
       "                        <td id=\"T_8501bc2d_dde4_11eb_85dc_988389fc4af1row9_col11\" class=\"data row9 col11\" >-0.32</td>\n",
       "                        <td id=\"T_8501bc2d_dde4_11eb_85dc_988389fc4af1row9_col12\" class=\"data row9 col12\" >-0.30</td>\n",
       "            </tr>\n",
       "            <tr>\n",
       "                        <th id=\"T_8501bc2d_dde4_11eb_85dc_988389fc4af1level0_row10\" class=\"row_heading level0 row10\" >sim_title_query</th>\n",
       "                        <td id=\"T_8501bc2d_dde4_11eb_85dc_988389fc4af1row10_col0\" class=\"data row10 col0\" >-0.01</td>\n",
       "                        <td id=\"T_8501bc2d_dde4_11eb_85dc_988389fc4af1row10_col1\" class=\"data row10 col1\" >0.00</td>\n",
       "                        <td id=\"T_8501bc2d_dde4_11eb_85dc_988389fc4af1row10_col2\" class=\"data row10 col2\" >-0.10</td>\n",
       "                        <td id=\"T_8501bc2d_dde4_11eb_85dc_988389fc4af1row10_col3\" class=\"data row10 col3\" >-0.13</td>\n",
       "                        <td id=\"T_8501bc2d_dde4_11eb_85dc_988389fc4af1row10_col4\" class=\"data row10 col4\" >-0.02</td>\n",
       "                        <td id=\"T_8501bc2d_dde4_11eb_85dc_988389fc4af1row10_col5\" class=\"data row10 col5\" >-0.05</td>\n",
       "                        <td id=\"T_8501bc2d_dde4_11eb_85dc_988389fc4af1row10_col6\" class=\"data row10 col6\" >0.07</td>\n",
       "                        <td id=\"T_8501bc2d_dde4_11eb_85dc_988389fc4af1row10_col7\" class=\"data row10 col7\" >-0.01</td>\n",
       "                        <td id=\"T_8501bc2d_dde4_11eb_85dc_988389fc4af1row10_col8\" class=\"data row10 col8\" >-0.03</td>\n",
       "                        <td id=\"T_8501bc2d_dde4_11eb_85dc_988389fc4af1row10_col9\" class=\"data row10 col9\" >-0.06</td>\n",
       "                        <td id=\"T_8501bc2d_dde4_11eb_85dc_988389fc4af1row10_col10\" class=\"data row10 col10\" >1.00</td>\n",
       "                        <td id=\"T_8501bc2d_dde4_11eb_85dc_988389fc4af1row10_col11\" class=\"data row10 col11\" >0.13</td>\n",
       "                        <td id=\"T_8501bc2d_dde4_11eb_85dc_988389fc4af1row10_col12\" class=\"data row10 col12\" >0.31</td>\n",
       "            </tr>\n",
       "            <tr>\n",
       "                        <th id=\"T_8501bc2d_dde4_11eb_85dc_988389fc4af1level0_row11\" class=\"row_heading level0 row11\" >sim_title_concat</th>\n",
       "                        <td id=\"T_8501bc2d_dde4_11eb_85dc_988389fc4af1row11_col0\" class=\"data row11 col0\" >-0.04</td>\n",
       "                        <td id=\"T_8501bc2d_dde4_11eb_85dc_988389fc4af1row11_col1\" class=\"data row11 col1\" >0.01</td>\n",
       "                        <td id=\"T_8501bc2d_dde4_11eb_85dc_988389fc4af1row11_col2\" class=\"data row11 col2\" >0.01</td>\n",
       "                        <td id=\"T_8501bc2d_dde4_11eb_85dc_988389fc4af1row11_col3\" class=\"data row11 col3\" >0.04</td>\n",
       "                        <td id=\"T_8501bc2d_dde4_11eb_85dc_988389fc4af1row11_col4\" class=\"data row11 col4\" >0.03</td>\n",
       "                        <td id=\"T_8501bc2d_dde4_11eb_85dc_988389fc4af1row11_col5\" class=\"data row11 col5\" >-0.02</td>\n",
       "                        <td id=\"T_8501bc2d_dde4_11eb_85dc_988389fc4af1row11_col6\" class=\"data row11 col6\" >0.00</td>\n",
       "                        <td id=\"T_8501bc2d_dde4_11eb_85dc_988389fc4af1row11_col7\" class=\"data row11 col7\" >-0.06</td>\n",
       "                        <td id=\"T_8501bc2d_dde4_11eb_85dc_988389fc4af1row11_col8\" class=\"data row11 col8\" >-0.32</td>\n",
       "                        <td id=\"T_8501bc2d_dde4_11eb_85dc_988389fc4af1row11_col9\" class=\"data row11 col9\" >-0.32</td>\n",
       "                        <td id=\"T_8501bc2d_dde4_11eb_85dc_988389fc4af1row11_col10\" class=\"data row11 col10\" >0.13</td>\n",
       "                        <td id=\"T_8501bc2d_dde4_11eb_85dc_988389fc4af1row11_col11\" class=\"data row11 col11\" >1.00</td>\n",
       "                        <td id=\"T_8501bc2d_dde4_11eb_85dc_988389fc4af1row11_col12\" class=\"data row11 col12\" >0.76</td>\n",
       "            </tr>\n",
       "            <tr>\n",
       "                        <th id=\"T_8501bc2d_dde4_11eb_85dc_988389fc4af1level0_row12\" class=\"row_heading level0 row12\" >sim_query_concat</th>\n",
       "                        <td id=\"T_8501bc2d_dde4_11eb_85dc_988389fc4af1row12_col0\" class=\"data row12 col0\" >-0.03</td>\n",
       "                        <td id=\"T_8501bc2d_dde4_11eb_85dc_988389fc4af1row12_col1\" class=\"data row12 col1\" >0.03</td>\n",
       "                        <td id=\"T_8501bc2d_dde4_11eb_85dc_988389fc4af1row12_col2\" class=\"data row12 col2\" >-0.03</td>\n",
       "                        <td id=\"T_8501bc2d_dde4_11eb_85dc_988389fc4af1row12_col3\" class=\"data row12 col3\" >0.02</td>\n",
       "                        <td id=\"T_8501bc2d_dde4_11eb_85dc_988389fc4af1row12_col4\" class=\"data row12 col4\" >0.04</td>\n",
       "                        <td id=\"T_8501bc2d_dde4_11eb_85dc_988389fc4af1row12_col5\" class=\"data row12 col5\" >-0.01</td>\n",
       "                        <td id=\"T_8501bc2d_dde4_11eb_85dc_988389fc4af1row12_col6\" class=\"data row12 col6\" >0.00</td>\n",
       "                        <td id=\"T_8501bc2d_dde4_11eb_85dc_988389fc4af1row12_col7\" class=\"data row12 col7\" >-0.05</td>\n",
       "                        <td id=\"T_8501bc2d_dde4_11eb_85dc_988389fc4af1row12_col8\" class=\"data row12 col8\" >-0.28</td>\n",
       "                        <td id=\"T_8501bc2d_dde4_11eb_85dc_988389fc4af1row12_col9\" class=\"data row12 col9\" >-0.30</td>\n",
       "                        <td id=\"T_8501bc2d_dde4_11eb_85dc_988389fc4af1row12_col10\" class=\"data row12 col10\" >0.31</td>\n",
       "                        <td id=\"T_8501bc2d_dde4_11eb_85dc_988389fc4af1row12_col11\" class=\"data row12 col11\" >0.76</td>\n",
       "                        <td id=\"T_8501bc2d_dde4_11eb_85dc_988389fc4af1row12_col12\" class=\"data row12 col12\" >1.00</td>\n",
       "            </tr>\n",
       "    </tbody></table>"
      ],
      "text/plain": [
       "<pandas.io.formats.style.Styler at 0x2bd397e55e0>"
      ]
     },
     "execution_count": 28,
     "metadata": {},
     "output_type": "execute_result"
    }
   ],
   "source": [
    "corr = df.corr()\n",
    "corr.style.background_gradient(cmap='coolwarm')\n",
    "corr.style.background_gradient(cmap='coolwarm').set_precision(2)"
   ]
  },
  {
   "cell_type": "markdown",
   "metadata": {
    "id": "EVL_hcOyhufL"
   },
   "source": [
    "## Excluindo de colunas"
   ]
  },
  {
   "cell_type": "code",
   "execution_count": 29,
   "metadata": {
    "id": "RiAP-1W5hxqr"
   },
   "outputs": [],
   "source": [
    "df.drop(['query','title','creation_date'], axis=1, inplace=True)"
   ]
  },
  {
   "cell_type": "markdown",
   "metadata": {
    "id": "PSv5etsFtZ9S"
   },
   "source": [
    "## Preenchendo valores NaN  \"\""
   ]
  },
  {
   "cell_type": "code",
   "execution_count": 30,
   "metadata": {
    "id": "tR2FetJErhp2"
   },
   "outputs": [],
   "source": [
    "df.fillna(0,inplace = True)"
   ]
  },
  {
   "cell_type": "markdown",
   "metadata": {
    "id": "rr2w_3aeYaWC"
   },
   "source": [
    "## Transformando colunas \"concatenated_tags\" e \"creation_year\" de object para string"
   ]
  },
  {
   "cell_type": "code",
   "execution_count": 31,
   "metadata": {
    "id": "Uotv3r4CYke8"
   },
   "outputs": [],
   "source": [
    "df['concatenated_tags'] = df['concatenated_tags'].astype('str')\n",
    "df['creation_year'] = df['creation_year'].astype('int')"
   ]
  },
  {
   "cell_type": "markdown",
   "metadata": {
    "id": "mUhgd9XaMWw_"
   },
   "source": [
    "## Selecionando dados inferiores a 2015"
   ]
  },
  {
   "cell_type": "code",
   "execution_count": 32,
   "metadata": {
    "id": "ydoPqOJkMasL"
   },
   "outputs": [],
   "source": [
    "df2 = df.copy()\n",
    "df2 = df2[df2['creation_year']<2015]"
   ]
  },
  {
   "cell_type": "code",
   "execution_count": 33,
   "metadata": {
    "id": "ph-pTv-7MclD"
   },
   "outputs": [],
   "source": [
    "df2['creation_year'] = df2['creation_year'].astype('str')"
   ]
  },
  {
   "cell_type": "markdown",
   "metadata": {
    "id": "UeGdJwjv3msF"
   },
   "source": [
    "## One Hot Encoding (Get Dummies)"
   ]
  },
  {
   "cell_type": "code",
   "execution_count": 34,
   "metadata": {
    "id": "UmQxFTrf_rKQ"
   },
   "outputs": [],
   "source": [
    "col_dummies = [\"concatenated_tags\",\"creation_year\"]"
   ]
  },
  {
   "cell_type": "code",
   "execution_count": 35,
   "metadata": {
    "id": "zXOXeu-l6rlK"
   },
   "outputs": [],
   "source": [
    "df2 = pd.get_dummies(df2, columns=col_dummies)  "
   ]
  },
  {
   "cell_type": "markdown",
   "metadata": {
    "id": "TMWI2aV6hy5F"
   },
   "source": [
    "## Separando dados de treino e teste"
   ]
  },
  {
   "cell_type": "code",
   "execution_count": 36,
   "metadata": {
    "id": "oHtNoI35h0oV"
   },
   "outputs": [],
   "source": [
    "from sklearn.model_selection import train_test_split\n",
    "\n",
    "label = df2[\"category\"]\n",
    "feat_cols = df2.columns.tolist()\n",
    "feat_cols.remove(\"category\")\n",
    "feat = df2[feat_cols]\n",
    "\n",
    "X_train, X_test, y_train, y_test = train_test_split(feat, label, random_state=1)"
   ]
  },
  {
   "cell_type": "markdown",
   "metadata": {
    "id": "2_OhlUtNY11Y"
   },
   "source": [
    "## Normalizando dados"
   ]
  },
  {
   "cell_type": "code",
   "execution_count": 37,
   "metadata": {
    "id": "mFVl72x1Y2Jm"
   },
   "outputs": [],
   "source": [
    "from sklearn.preprocessing import StandardScaler\n",
    "\n",
    "ss = StandardScaler()\n",
    "X_ = ss.fit_transform(X_train)\n",
    "X_test = ss.transform(X_test)"
   ]
  },
  {
   "cell_type": "markdown",
   "metadata": {
    "id": "uldaPsHaY4sJ"
   },
   "source": [
    "## Balanceando os dados"
   ]
  },
  {
   "cell_type": "code",
   "execution_count": 38,
   "metadata": {
    "id": "ESbhVQvwY5Gg"
   },
   "outputs": [],
   "source": [
    "from imblearn.over_sampling import SMOTE\n",
    "\n",
    "sm = SMOTE()\n",
    "X_, y_ = sm.fit_resample(X_, y_train)"
   ]
  },
  {
   "cell_type": "markdown",
   "metadata": {
    "id": "zBWhXPeRY72Y"
   },
   "source": [
    "# MODELAGEM [XGBOOST]\n",
    "---"
   ]
  },
  {
   "cell_type": "markdown",
   "metadata": {
    "id": "OMbhmaO1dPG-"
   },
   "source": [
    "## Criação do Modelo"
   ]
  },
  {
   "cell_type": "code",
   "execution_count": null,
   "metadata": {
    "id": "lDvW46GzY8OD",
    "scrolled": true
   },
   "outputs": [
    {
     "name": "stderr",
     "output_type": "stream",
     "text": [
      "C:\\Users\\Rodrigo Mendes\\anaconda3\\lib\\site-packages\\xgboost\\sklearn.py:888: UserWarning: The use of label encoder in XGBClassifier is deprecated and will be removed in a future release. To remove this warning, do the following: 1) Pass option use_label_encoder=False when constructing XGBClassifier object; and 2) Encode your labels (y) as integers starting with 0, i.e. 0, 1, 2, ..., [num_class - 1].\n",
      "  warnings.warn(label_encoder_deprecation_msg, UserWarning)\n"
     ]
    },
    {
     "name": "stdout",
     "output_type": "stream",
     "text": [
      "[19:59:13] WARNING: C:/Users/Administrator/workspace/xgboost-win64_release_1.3.0/src/learner.cc:541: \n",
      "Parameters: { scale_pos_weight } might not be used.\n",
      "\n",
      "  This may not be accurate due to some parameters are only used in language bindings but\n",
      "  passed down to XGBoost core.  Or some parameters are not used but slip through this\n",
      "  verification. Please open an issue if you find above cases.\n",
      "\n",
      "\n",
      "[19:59:23] WARNING: C:/Users/Administrator/workspace/xgboost-win64_release_1.3.0/src/learner.cc:1061: Starting in XGBoost 1.3.0, the default evaluation metric used with the objective 'multi:softprob' was changed from 'merror' to 'mlogloss'. Explicitly set eval_metric if you'd like to restore the old behavior.\n"
     ]
    }
   ],
   "source": [
    "import xgboost as xgb\n",
    "\n",
    "clf_XGB = xgb.XGBClassifier(\n",
    "    n_estimators=300,\n",
    "    max_depth=15,\n",
    "    scale_pos_weight=100_000,\n",
    "    use_label_encoder=True\n",
    ")\n",
    "clf_XGB.fit(X_, y_)"
   ]
  },
  {
   "cell_type": "markdown",
   "metadata": {
    "id": "_khQKQSmZDqb"
   },
   "source": [
    "## Validação do Modelo"
   ]
  },
  {
   "cell_type": "code",
   "execution_count": null,
   "metadata": {
    "id": "bUvkQpmtZHIT",
    "outputId": "225159a6-37a7-429d-d871-e67b9108e778"
   },
   "outputs": [],
   "source": [
    "from sklearn.metrics import plot_confusion_matrix\n",
    "from matplotlib import pyplot as plt\n",
    "\n",
    "fig, ax = plt.subplots(figsize=(10, 10))\n",
    "plot_confusion_matrix(clf_XGB, X_test, y_test, normalize=\"true\", ax=ax)"
   ]
  },
  {
   "cell_type": "code",
   "execution_count": null,
   "metadata": {
    "id": "7JTHJT3vS7nO",
    "outputId": "651ba0a1-b9d3-48b5-8dd2-733013ba72e4"
   },
   "outputs": [],
   "source": [
    "from sklearn.metrics import confusion_matrix, classification_report\n",
    "\n",
    "y_pred = clf_XGB.predict(X_test)\n",
    "print(\"Report do Classificador Xgboost:\\n\")\n",
    "print(classification_report(y_true = y_test,y_pred = y_pred,digits = 4))"
   ]
  },
  {
   "cell_type": "markdown",
   "metadata": {
    "id": "IsOADEPPD9Ii"
   },
   "source": [
    "# MODELAGEM [DECISION TREE]\n",
    "---"
   ]
  },
  {
   "cell_type": "markdown",
   "metadata": {
    "id": "t2rO6CjRD9Ir"
   },
   "source": [
    "## Criação do Modelo"
   ]
  },
  {
   "cell_type": "code",
   "execution_count": null,
   "metadata": {
    "id": "_ySniSbPD9Is",
    "outputId": "4357d8b8-6c1b-4030-d8c4-f259314edb3a"
   },
   "outputs": [],
   "source": [
    "from sklearn.tree import DecisionTreeClassifier\n",
    "\n",
    "clf_DTR = DecisionTreeClassifier()\n",
    "clf_DTR.fit(X_,y_)"
   ]
  },
  {
   "cell_type": "markdown",
   "metadata": {
    "id": "1WY5A2DBD9It"
   },
   "source": [
    "## Validação do Modelo"
   ]
  },
  {
   "cell_type": "code",
   "execution_count": null,
   "metadata": {
    "id": "COz6kGFcD9Iu",
    "outputId": "68d58cdf-5f31-4eba-be0f-c737376e4fde"
   },
   "outputs": [],
   "source": [
    "fig, ax = plt.subplots(figsize=(10, 10))\n",
    "plot_confusion_matrix(clf_DTR, X_test, y_test, normalize=\"true\", ax=ax)"
   ]
  },
  {
   "cell_type": "code",
   "execution_count": null,
   "metadata": {
    "id": "rwfTEYt_NNRq",
    "outputId": "de2d5d8d-c6d4-4f0d-eaac-ab070f36bede"
   },
   "outputs": [],
   "source": [
    "y_pred = clf_DTR.predict(X_test)\n",
    "print(\"Report do Classificador Decision Tree:\\n\")\n",
    "print(classification_report(y_true = y_test,y_pred = y_pred,digits = 4))"
   ]
  },
  {
   "cell_type": "markdown",
   "metadata": {
    "id": "AzGJYxB9k4ND"
   },
   "source": [
    "#MODELAGEM [RANDOM FOREST]\n",
    "---"
   ]
  },
  {
   "cell_type": "markdown",
   "metadata": {
    "id": "XJrJogE7dnV3"
   },
   "source": [
    "## Criação do Modelo"
   ]
  },
  {
   "cell_type": "code",
   "execution_count": null,
   "metadata": {
    "id": "LDrRXn3vbCbu",
    "outputId": "732106fb-ef50-46dd-884c-dd07d0d515ec"
   },
   "outputs": [],
   "source": [
    "from sklearn.ensemble import RandomForestClassifier\n",
    "\n",
    "clf_RFC = RandomForestClassifier()\n",
    "clf_RFC.fit(X_,y_)"
   ]
  },
  {
   "cell_type": "markdown",
   "metadata": {
    "id": "sGHODWvCdoL_"
   },
   "source": [
    "## Validação do Modelo"
   ]
  },
  {
   "cell_type": "code",
   "execution_count": null,
   "metadata": {
    "id": "a-K0Eym1cuWJ",
    "outputId": "d8a36d54-4372-48d7-d23d-675652983de9"
   },
   "outputs": [],
   "source": [
    "fig, ax = plt.subplots(figsize=(10, 10))\n",
    "plot_confusion_matrix(clf_RFC, X_test, y_test, normalize=\"true\", ax=ax)"
   ]
  },
  {
   "cell_type": "code",
   "execution_count": null,
   "metadata": {
    "id": "Y8_Urh3dRVb-",
    "outputId": "835551e1-d835-44be-96fa-c0709788cda8"
   },
   "outputs": [],
   "source": [
    "y_pred = clf_RFC.predict(X_test)\n",
    "print(\"Report do Classificador Random Forest:\\n\")\n",
    "print(classification_report(y_true = y_test,y_pred = y_pred,digits = 4))"
   ]
  },
  {
   "cell_type": "markdown",
   "metadata": {
    "id": "IJM3BVAmUbSY"
   },
   "source": [
    "#MODELAGEM [SVM]\n",
    "---"
   ]
  },
  {
   "cell_type": "markdown",
   "metadata": {
    "id": "eK0v6EIrUbSm"
   },
   "source": [
    "## Criação do Modelo"
   ]
  },
  {
   "cell_type": "code",
   "execution_count": null,
   "metadata": {
    "id": "IyaCCV8IUbSm",
    "outputId": "47ceda75-4ffa-4948-fe68-d851182361d0"
   },
   "outputs": [],
   "source": [
    "from sklearn.svm import SVC \n",
    "\n",
    "clf_SVM = SVC()\n",
    "clf_SVM.fit(X_,y_)"
   ]
  },
  {
   "cell_type": "markdown",
   "metadata": {
    "id": "rsSabRNGUbSm"
   },
   "source": [
    "## Validação do Modelo"
   ]
  },
  {
   "cell_type": "code",
   "execution_count": null,
   "metadata": {
    "id": "k5oa1JsBUbSn",
    "outputId": "ca54c434-ed75-45f0-a2b2-5c3859d95f86"
   },
   "outputs": [],
   "source": [
    "fig, ax = plt.subplots(figsize=(10, 10))\n",
    "plot_confusion_matrix(clf_SVM, X_test, y_test, normalize=\"true\", ax=ax)"
   ]
  },
  {
   "cell_type": "code",
   "execution_count": null,
   "metadata": {
    "id": "7gYMosmMUbSn",
    "outputId": "1c4b6d52-3ee9-4d10-cc39-073c9b349409"
   },
   "outputs": [],
   "source": [
    "y_pred = clf_SVM.predict(X_test)\n",
    "print(\"Report do Classificador SVM:\\n\")\n",
    "print(classification_report(y_true = y_test,y_pred = y_pred,digits = 4))"
   ]
  },
  {
   "cell_type": "markdown",
   "metadata": {
    "id": "YLEV3nP0t8VS"
   },
   "source": [
    "# MODELAGEM [LOGISTIC REGRESSION]\n",
    "---"
   ]
  },
  {
   "cell_type": "markdown",
   "metadata": {
    "id": "1jALo6jadz4f"
   },
   "source": [
    "## Criação do Modelo"
   ]
  },
  {
   "cell_type": "code",
   "execution_count": null,
   "metadata": {
    "id": "91qZ1QDyoSwh",
    "outputId": "d85a872c-c194-493e-cf6f-0322d77e87b7"
   },
   "outputs": [],
   "source": [
    "from sklearn.linear_model import LogisticRegression\n",
    "\n",
    "clf_RLG = LogisticRegression()  \n",
    "clf_RLG.fit(X_,y_) "
   ]
  },
  {
   "cell_type": "markdown",
   "metadata": {
    "id": "zuWDKY9yd3EX"
   },
   "source": [
    "## Validação do Modelo"
   ]
  },
  {
   "cell_type": "code",
   "execution_count": null,
   "metadata": {
    "id": "gD4TZl0uohtY",
    "outputId": "2ba9f62b-2aa9-429a-9e3e-874c361f3756"
   },
   "outputs": [],
   "source": [
    "fig, ax = plt.subplots(figsize=(10, 10))\n",
    "plot_confusion_matrix(clf_RLG, X_test, y_test, normalize=\"true\", ax=ax)"
   ]
  },
  {
   "cell_type": "code",
   "execution_count": null,
   "metadata": {
    "id": "7nXGYrbERZ48",
    "outputId": "9c0f646b-5d79-4bbe-8792-391437eda4e9"
   },
   "outputs": [],
   "source": [
    "y_pred = clf_RLG.predict(X_test)\n",
    "print(\"Report do Classificador Regressão Logística Múltipla:\\n\")\n",
    "print(classification_report(y_true = y_test,y_pred = y_pred,digits = 4))"
   ]
  },
  {
   "cell_type": "markdown",
   "metadata": {
    "id": "05F0M2sQeMxQ"
   },
   "source": [
    "#ATUALIZAÇÃO DE REQUIREMENTS\n",
    "---"
   ]
  },
  {
   "cell_type": "code",
   "execution_count": null,
   "metadata": {
    "id": "RostZPm_eMaQ",
    "outputId": "d1544692-f6cb-4d4c-ae83-ac99263758f6"
   },
   "outputs": [],
   "source": [
    "#!python --version"
   ]
  },
  {
   "cell_type": "code",
   "execution_count": null,
   "metadata": {
    "id": "uYWbt6FYeSCv"
   },
   "outputs": [],
   "source": [
    "#!pip freeze > \"C:\\Projeto_Final_MineracaoDados\\requirements.txt\""
   ]
  },
  {
   "cell_type": "code",
   "execution_count": null,
   "metadata": {},
   "outputs": [],
   "source": [
    "df2.head()"
   ]
  },
  {
   "cell_type": "code",
   "execution_count": null,
   "metadata": {},
   "outputs": [],
   "source": []
  },
  {
   "cell_type": "code",
   "execution_count": null,
   "metadata": {},
   "outputs": [],
   "source": []
  },
  {
   "cell_type": "code",
   "execution_count": null,
   "metadata": {},
   "outputs": [],
   "source": []
  },
  {
   "cell_type": "code",
   "execution_count": null,
   "metadata": {},
   "outputs": [],
   "source": []
  }
 ],
 "metadata": {
  "colab": {
   "collapsed_sections": [],
   "name": "JUPYTER_Projeto_Final.ipynb",
   "provenance": []
  },
  "kernelspec": {
   "display_name": "Python 3",
   "language": "python",
   "name": "python3"
  },
  "language_info": {
   "codemirror_mode": {
    "name": "ipython",
    "version": 3
   },
   "file_extension": ".py",
   "mimetype": "text/x-python",
   "name": "python",
   "nbconvert_exporter": "python",
   "pygments_lexer": "ipython3",
   "version": "3.8.5"
  }
 },
 "nbformat": 4,
 "nbformat_minor": 1
}
